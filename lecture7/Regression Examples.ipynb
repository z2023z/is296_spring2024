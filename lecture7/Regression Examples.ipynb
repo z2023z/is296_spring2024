{
 "cells": [
  {
   "cell_type": "code",
   "execution_count": null,
   "metadata": {},
   "outputs": [],
   "source": [
    "# HIDDEN\n",
    "from datascience import *\n",
    "import numpy as np\n",
    "%matplotlib inline\n",
    "import matplotlib.pyplot as plots\n",
    "plots.style.use('fivethirtyeight')"
   ]
  },
  {
   "cell_type": "markdown",
   "metadata": {},
   "source": [
    "Discussion question\n",
    "\n",
    "A course has a midterm (average 70; standard deviation 10)\u000b",
    "and a really hard final (average 50; standard deviation 12) If the scatter diagram comparing midterm & final scores for students has an oval shape with correlation 0.75, then... What do you expect the average final score would be for students who scored 90 on the midterm? \n"
   ]
  },
  {
   "cell_type": "code",
   "execution_count": null,
   "metadata": {},
   "outputs": [],
   "source": [
    "avg_x=70\n",
    "st_x=10\n",
    "avg_y=50\n",
    "st_y=12\n",
    "r=0.75\n"
   ]
  },
  {
   "cell_type": "code",
   "execution_count": null,
   "metadata": {},
   "outputs": [],
   "source": [
    "s1_x=60\n",
    "su_x_1=(s1_x-avg_x)/st_x\n",
    "\n",
    "\n",
    "su_y_1=r*su_x_1\n",
    "print(su_x_1,su_y_1)\n",
    "#original Y\n",
    "s1_y=su_y_1*st_y+avg_y\n",
    "print(\"y prediction\", s1_y)\n"
   ]
  },
  {
   "cell_type": "markdown",
   "metadata": {},
   "source": [
    "##How about midetrem score of 60?"
   ]
  },
  {
   "cell_type": "code",
   "execution_count": null,
   "metadata": {},
   "outputs": [],
   "source": [
    "def standard_units(x):\n",
    "    return (x-np.mean(x))/np.std(x)\n",
    "\n",
    "def correlation(t, x, y):\n",
    "    xsu=standard_units(t.column(x))\n",
    "    ysu=standard_units(t.column(y))\n",
    "    mn=np.mean(xsu*ysu)\n",
    "    return mn\n",
    "\n",
    "\n",
    "def slope(t, x, y):\n",
    "    r=correlation(t,x,y)\n",
    "    return r*np.std(t.column(y))/np.std(t.column(x))\n",
    "    \n",
    "\n",
    "def intercept(t, x, y):\n",
    "    return np.mean(t.column(y))-slope(t,x,y)*np.mean(t.column(x))\n",
    "\n",
    " "
   ]
  },
  {
   "cell_type": "code",
   "execution_count": null,
   "metadata": {},
   "outputs": [],
   "source": [
    "galton=Table.read_table('galton.csv')\n",
    "heights=Table().with_column('MidParent', galton.column('midparentHeight'),'Child', galton.column('childHeight'))\n",
    "heights"
   ]
  },
  {
   "cell_type": "code",
   "execution_count": null,
   "metadata": {},
   "outputs": [],
   "source": [
    "def nn_prediction_galton(h):\n",
    "    \"\"\"Return a prediction of the height of a child \n",
    "    whose parents have a midparent height of h.\n",
    "    \n",
    "    The prediction is the average height of the children \n",
    "    whose midparent height is in the range h plus or minus 0.5 inches.\n",
    "    \"\"\"\n",
    "    neighbors = heights.where(\n",
    "        'MidParent', are.between(h - 0.5, h + 0.5))\n",
    "    return np.mean(neighbors.column('Child'))"
   ]
  },
  {
   "cell_type": "code",
   "execution_count": null,
   "metadata": {},
   "outputs": [],
   "source": [
    "heights_with_predictions = heights.with_column(\n",
    "    'Average neighbor prediction', \n",
    "    heights.apply(nn_prediction_galton, 'MidParent'))"
   ]
  },
  {
   "cell_type": "code",
   "execution_count": null,
   "metadata": {},
   "outputs": [],
   "source": [
    "heights_with_predictions"
   ]
  },
  {
   "cell_type": "code",
   "execution_count": null,
   "metadata": {},
   "outputs": [],
   "source": [
    "galton_slope=slope(heights, 'MidParent', 'Child')\n",
    "galton_intercept= intercept(heights, 'MidParent','Child')\n",
    "\n",
    "print(galton_slope,galton_intercept)\n",
    "\n",
    "heights_with_predictions=heights_with_predictions.with_column('Regression Prediction', galton_slope*heights.column('MidParent')+galton_intercept)"
   ]
  },
  {
   "cell_type": "code",
   "execution_count": null,
   "metadata": {},
   "outputs": [],
   "source": [
    "heights_with_predictions"
   ]
  },
  {
   "cell_type": "code",
   "execution_count": null,
   "metadata": {},
   "outputs": [],
   "source": [
    "heights_with_predictions.scatter('MidParent')"
   ]
  }
 ],
 "metadata": {
  "kernelspec": {
   "display_name": "Python 3",
   "language": "python",
   "name": "python3"
  },
  "language_info": {
   "codemirror_mode": {
    "name": "ipython",
    "version": 3
   },
   "file_extension": ".py",
   "mimetype": "text/x-python",
   "name": "python",
   "nbconvert_exporter": "python",
   "pygments_lexer": "ipython3",
   "version": "3.6.5"
  }
 },
 "nbformat": 4,
 "nbformat_minor": 2
}
