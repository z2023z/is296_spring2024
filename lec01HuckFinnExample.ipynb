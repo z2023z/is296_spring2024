{
 "cells": [
  {
   "cell_type": "code",
   "execution_count": null,
   "metadata": {},
   "outputs": [],
   "source": [
    "# Stuff that will appear at the top of notebooks;\n",
    "# You don't have to do anything about it.\n",
    "\n",
    "from datascience import *\n",
    "import numpy as np\n",
    "%matplotlib inline\n",
    "import matplotlib.pyplot as plots\n",
    "plots.style.use('fivethirtyeight')\n",
    "import warnings\n",
    "warnings.simplefilter(action=\"ignore\", category=FutureWarning)\n",
    "\n",
    "from urllib.request import urlopen \n",
    "import re\n",
    "def read_url(url): \n",
    "    return re.sub('\\\\s+', ' ', urlopen(url).read().decode())"
   ]
  },
  {
   "cell_type": "code",
   "execution_count": null,
   "metadata": {},
   "outputs": [],
   "source": [
    "2+3"
   ]
  },
  {
   "cell_type": "code",
   "execution_count": null,
   "metadata": {},
   "outputs": [],
   "source": [
    "# Read two books, fast!\n",
    "\n",
    "huck_finn_url = 'https://www.inferentialthinking.com/data/huck_finn.txt'\n",
    "huck_finn_text = read_url(huck_finn_url)\n",
    "huck_finn_chapters = huck_finn_text.split('CHAPTER ')[44:]\n",
    "#skips the inital content\n",
    "\n",
    "little_women_url = 'https://www.inferentialthinking.com/data/little_women.txt'\n",
    "little_women_text = read_url(little_women_url)\n",
    "little_women_chapters = little_women_text.split('CHAPTER ')[1:]"
   ]
  },
  {
   "cell_type": "code",
   "execution_count": null,
   "metadata": {},
   "outputs": [],
   "source": [
    "huck_finn_chapters"
   ]
  },
  {
   "cell_type": "code",
   "execution_count": null,
   "metadata": {},
   "outputs": [],
   "source": [
    "Table().with_column('Chapters', huck_finn_chapters)"
   ]
  },
  {
   "cell_type": "code",
   "execution_count": null,
   "metadata": {},
   "outputs": [],
   "source": [
    "np.char.count(huck_finn_chapters, 'Tom')\n",
    "#function from numpy...remember we are using alias np for it\n",
    "#this counts the number of times 'Tom' occurs in each of the chapters"
   ]
  },
  {
   "cell_type": "code",
   "execution_count": null,
   "metadata": {},
   "outputs": [],
   "source": [
    "np.char.count(huck_finn_chapters, 'Jim')"
   ]
  },
  {
   "cell_type": "code",
   "execution_count": null,
   "metadata": {},
   "outputs": [],
   "source": [
    "counts = Table().with_columns([\n",
    "    'Tom', np.char.count(huck_finn_chapters, 'Tom'),\n",
    "    'Jim', np.char.count(huck_finn_chapters, 'Jim'),\n",
    "    'Huck', np.char.count(huck_finn_chapters, 'Huck'),\n",
    "])\n",
    "counts\n",
    "#this makes a table with the counts of each of the characters in each of the chapters"
   ]
  },
  {
   "cell_type": "code",
   "execution_count": null,
   "metadata": {},
   "outputs": [],
   "source": [
    "# Count how many times the names Jim, Tom, and Huck appear in each chapter\n",
    "\n",
    "counts = Table().with_columns([\n",
    "        'Jim', np.char.count(huck_finn_chapters, 'Jim'),\n",
    "        'Tom', np.char.count(huck_finn_chapters, 'Tom'),\n",
    "        'Huck', np.char.count(huck_finn_chapters, 'Huck')\n",
    "    ])\n",
    "\n",
    "# Plot the cumulative counts:\n",
    "# how many times in Chapter 1, how many times in Chapters 1 and 2, and so on.\n",
    "\n",
    "cum_counts = counts.cumsum().with_column('Chapter', np.arange(1, 44,1))\n",
    "#np.arrange(start, stop, step)\n",
    "cum_counts.plot(column_for_xticks=3)\n",
    "plots.title('Cumulative Number of Times Name Appears');\n",
    "\n",
    "#In the plot , the horizontal axis shows chapter numbers and the vertical axis shows how many times each \n",
    "#character has been mentioned up to and including that chapter.\n",
    "\n",
    "#You can see that Jim is a central character by the \n",
    "#large number of times his name appears. Notice how Tom is hardly \n",
    "#mentioned for much of the book until he arrives and joins Huck and Jim, \n",
    "#after Chapter 30. His curve and Jim's rise sharply at that point, as the action \n",
    "#involving both of them intensifies. As for Huck, his name hardly appears at all, because he is the narrator.\n"
   ]
  },
  {
   "cell_type": "code",
   "execution_count": null,
   "metadata": {},
   "outputs": [],
   "source": [
    "# The chapters of Little Women\n",
    "\n",
    "Table().with_column('Chapters', little_women_chapters)"
   ]
  },
  {
   "cell_type": "code",
   "execution_count": null,
   "metadata": {},
   "outputs": [],
   "source": [
    "# Counts of names in the chapters of Little Women\n",
    "\n",
    "people = ['Amy', 'Beth', 'Jo', 'Laurie', 'Meg']\n",
    "people_counts = {pp: np.char.count(little_women_chapters, pp) for pp in people}\n",
    "\n",
    "counts = Table().with_columns([\n",
    "        'Amy', people_counts['Amy'],\n",
    "        'Beth', people_counts['Beth'],\n",
    "        'Jo', people_counts['Jo'],\n",
    "        'Laurie', people_counts['Laurie'],\n",
    "        'Meg', people_counts['Meg']\n",
    "    ])\n",
    "\n",
    "#We can track the mentions of main characters to learn about the plot of this book as well. \n",
    "#The protagonist Jo interacts with her sisters \n",
    "#Meg, Beth, and Amy regularly, up until Chapter 27 when she moves to New York alone."
   ]
  },
  {
   "cell_type": "code",
   "execution_count": null,
   "metadata": {},
   "outputs": [],
   "source": [
    "# Plot the cumulative counts\n",
    "\n",
    "cum_counts = counts.cumsum().with_column('Chapter', np.arange(1, 48, 1))\n",
    "cum_counts.plot(column_for_xticks=5)\n",
    "plots.title('Cumulative Number of Times Name Appears');\n",
    "#Laurie is a young man who marries one of the girls in the end. See if you can use the plots to guess which one."
   ]
  },
  {
   "cell_type": "code",
   "execution_count": null,
   "metadata": {},
   "outputs": [],
   "source": [
    "# In each chapter, count the number of all characters;\n",
    "# call this the \"length\" of the chapter.\n",
    "# Also count the number of periods.\n",
    "\n",
    "chars_periods_hf = Table().with_columns([\n",
    "        'HF Chapter Length', [len(s) for s in huck_finn_chapters],\n",
    "        'Number of Periods', np.char.count(huck_finn_chapters, '.')\n",
    "    ])\n",
    "chars_periods_lw = Table().with_columns([\n",
    "        'LW Chapter Length', [len(s) for s in little_women_chapters],\n",
    "        'Number of Periods', np.char.count(little_women_chapters, '.')\n",
    "    ])"
   ]
  },
  {
   "cell_type": "code",
   "execution_count": null,
   "metadata": {},
   "outputs": [],
   "source": [
    "# The counts for Huckleberry Finn\n",
    "\n",
    "chars_periods_hf"
   ]
  },
  {
   "cell_type": "code",
   "execution_count": null,
   "metadata": {},
   "outputs": [],
   "source": [
    "# The counts for Little Women\n",
    "\n",
    "chars_periods_lw\n",
    "\n",
    "\n",
    "#You can see that the chapters of Little Women are in general longer than those of Huckleberry Finn. \n",
    "\n"
   ]
  },
  {
   "cell_type": "code",
   "execution_count": null,
   "metadata": {},
   "outputs": [],
   "source": [
    "plots.figure(figsize=(10,10))\n",
    "plots.scatter(chars_periods_hf[1], chars_periods_hf[0], color='darkblue')\n",
    "plots.scatter(chars_periods_lw[1], chars_periods_lw[0], color='gold')\n",
    "plots.xlabel('Number of periods in chapter')\n",
    "plots.ylabel('Number of characters in chapter');\n",
    "\n",
    "#Let us see if these two simple variables – the length and number of periods in each chapter – \n",
    "#can tell us anything more about the two books. One way to do this is to plot both sets of data on the same axes.\n",
    "\n",
    "#In the plot below, there is a dot for each chapter in each book. Blue dots correspond to Huckleberry Finn \n",
    "#and gold dots to Little Women. The horizontal axis represents the number of periods and the vertical axis\n",
    "#represents the number of characters."
   ]
  },
  {
   "cell_type": "code",
   "execution_count": null,
   "metadata": {},
   "outputs": [],
   "source": []
  }
 ],
 "metadata": {
  "anaconda-cloud": {},
  "celltoolbar": "Raw Cell Format",
  "kernelspec": {
   "display_name": "Python 3",
   "language": "python",
   "name": "python3"
  },
  "language_info": {
   "codemirror_mode": {
    "name": "ipython",
    "version": 3
   },
   "file_extension": ".py",
   "mimetype": "text/x-python",
   "name": "python",
   "nbconvert_exporter": "python",
   "pygments_lexer": "ipython3",
   "version": "3.6.5"
  }
 },
 "nbformat": 4,
 "nbformat_minor": 1
}
